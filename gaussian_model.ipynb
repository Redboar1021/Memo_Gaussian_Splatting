{
 "cells": [
  {
   "cell_type": "markdown",
   "metadata": {},
   "source": [
    "ガウシアンを管理"
   ]
  },
  {
   "cell_type": "markdown",
   "metadata": {},
   "source": [
    "# パラメータ"
   ]
  },
  {
   "cell_type": "code",
   "execution_count": null,
   "metadata": {},
   "outputs": [],
   "source": [
    "class GaussianModel:\n",
    "    def __init__(self, sh_degree : int):\n",
    "        # 現在アクティブな球面調和関数（SH）の次数。初期値は0\n",
    "        self.active_sh_degree = 0\n",
    "        \n",
    "        # 使用可能な最大のSH次数。モデルの表現力の上限を設定\n",
    "        self.max_sh_degree = sh_degree  \n",
    "        \n",
    "        # 3D空間におけるガウス分布の中心位置を表すテンソル\n",
    "        self._xyz = torch.empty(0)\n",
    "        \n",
    "        # SHの直流（DC）成分を表す特徴テンソル。色情報の基本部分を保持\n",
    "        self._features_dc = torch.empty(0)\n",
    "        \n",
    "        # SHの高次成分を表す特徴テンソル。より詳細な色や照明情報を保持\n",
    "        self._features_rest = torch.empty(0)\n",
    "        \n",
    "        # ガウス分布のスケーリングパラメータを保持するテンソル\n",
    "        self._scaling = torch.empty(0)\n",
    "        \n",
    "        # ガウス分布の回転を表すクォータニオンを保持するテンソル\n",
    "        self._rotation = torch.empty(0)\n",
    "        \n",
    "        # 各ガウス分布の不透明度を表すテンソル\n",
    "        self._opacity = torch.empty(0)\n",
    "        \n",
    "        # 2D投影時の各ガウス分布の最大半径を保持するテンソル\n",
    "        self.max_radii2D = torch.empty(0)\n",
    "        \n",
    "        # 位置の勾配を累積するためのテンソル。密度制御に使用\n",
    "        self.xyz_gradient_accum = torch.empty(0)\n",
    "        \n",
    "        # 正規化のための分母を保持するテンソル\n",
    "        self.denom = torch.empty(0)\n",
    "        \n",
    "        # モデルのパラメータを最適化するためのオプティマイザ。初期値はNone\n",
    "        self.optimizer = None\n",
    "        \n",
    "        # 密度制御のためのパラメータ。シーンの範囲に対する相対的な密度を表す\n",
    "        self.percent_dense = 0\n",
    "        \n",
    "        # 空間的な学習率のスケーリング係数。位置の更新量を調整するのに使用\n",
    "        self.spatial_lr_scale = 0\n",
    "        \n",
    "        # 活性化関数やその他の補助関数をセットアップ\n",
    "        self.setup_functions()"
   ]
  }
 ],
 "metadata": {
  "kernelspec": {
   "display_name": "Python 3",
   "language": "python",
   "name": "python3"
  },
  "language_info": {
   "name": "python",
   "version": "3.9.1"
  }
 },
 "nbformat": 4,
 "nbformat_minor": 2
}
